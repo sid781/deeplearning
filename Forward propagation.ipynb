{
 "cells": [
  {
   "cell_type": "markdown",
   "id": "cultural-fifteen",
   "metadata": {},
   "source": [
    "# Forward Propagation NN"
   ]
  },
  {
   "cell_type": "code",
   "execution_count": 1,
   "id": "convertible-trouble",
   "metadata": {},
   "outputs": [],
   "source": [
    "import torch\n",
    "import torch.nn as nn\n",
    "import torch.nn.functional as F\n",
    "import numpy as np\n",
    "\n",
    "from torchvision import datasets, transforms\n",
    "import matplotlib.pyplot as plt\n",
    "%matplotlib inline"
   ]
  },
  {
   "cell_type": "code",
   "execution_count": 2,
   "id": "careful-naples",
   "metadata": {},
   "outputs": [],
   "source": [
    "class Net(nn.Module):\n",
    "    def __init__(self):\n",
    "        super(Net, self).__init__()\n",
    "\n",
    "        self.fc1=nn.Linear(784, 100)\n",
    "        self.fc2=nn.Linear(100, 10)\n",
    "\n",
    "        self.sigmoid=nn.Sigmoid()\n",
    "\n",
    "    def forward(self, x):\n",
    "        x=self.fc1(x)\n",
    "        x=self.sigmoid(x)\n",
    "        x=self.fc2(x)\n",
    "\n",
    "        x=F.softmax(x, dim=1)\n",
    "        return x"
   ]
  },
  {
   "cell_type": "code",
   "execution_count": 3,
   "id": "serious-proportion",
   "metadata": {},
   "outputs": [
    {
     "name": "stdout",
     "output_type": "stream",
     "text": [
      "Net(\n",
      "  (fc1): Linear(in_features=784, out_features=100, bias=True)\n",
      "  (fc2): Linear(in_features=100, out_features=10, bias=True)\n",
      "  (sigmoid): Sigmoid()\n",
      ")\n"
     ]
    }
   ],
   "source": [
    "net=Net()\n",
    "print(net)"
   ]
  },
  {
   "cell_type": "code",
   "execution_count": 4,
   "id": "powerful-portfolio",
   "metadata": {},
   "outputs": [
    {
     "name": "stdout",
     "output_type": "stream",
     "text": [
      "\n",
      "first layer weights : torch.Size([100, 784])\n",
      "first layer bias : torch.Size([100])\n",
      "\n",
      "second layer weights : torch.Size([10, 100])\n",
      "second layer bias : torch.Size([10])\n",
      "\n",
      "Total parameters in the network :  79510\n"
     ]
    }
   ],
   "source": [
    "params = list(net.parameters())\n",
    "print('\\nfirst layer weights : ' + str(params[0].size()))\n",
    "print('first layer bias : ' + str(params[1].size()))\n",
    "print('\\nsecond layer weights : ' + str(params[2].size()))\n",
    "print('second layer bias : ' + str(params[3].size()))\n",
    "\n",
    "\n",
    "total_params=0\n",
    "for params in params:\n",
    "    total_params+=np.sum(np.prod(params.size()))\n",
    "print(\"\\nTotal parameters in the network : \" , total_params)"
   ]
  },
  {
   "cell_type": "code",
   "execution_count": 5,
   "id": "fatty-winning",
   "metadata": {},
   "outputs": [],
   "source": [
    "apply_transforms= transforms.Compose([transforms.ToTensor()])\n",
    "Batchsize=10\n",
    "\n",
    "trainset= datasets.MNIST(root='./data', train=True, download=False, transform=apply_transforms)\n",
    "trainloader= torch.utils.data.DataLoader(trainset, batch_size=Batchsize, shuffle=True)\n"
   ]
  },
  {
   "cell_type": "code",
   "execution_count": 6,
   "id": "integral-dating",
   "metadata": {},
   "outputs": [
    {
     "data": {
      "text/plain": [
       "tensor([2, 6, 2, 2, 4, 7, 0, 3, 0, 9])"
      ]
     },
     "execution_count": 6,
     "metadata": {},
     "output_type": "execute_result"
    }
   ],
   "source": [
    "data1=next(iter(trainloader))\n",
    "input1, label1=data1\n",
    "\n",
    "label1"
   ]
  },
  {
   "cell_type": "code",
   "execution_count": 7,
   "id": "revolutionary-factory",
   "metadata": {},
   "outputs": [
    {
     "data": {
      "text/plain": [
       "torch.Size([10, 1, 28, 28])"
      ]
     },
     "execution_count": 7,
     "metadata": {},
     "output_type": "execute_result"
    }
   ],
   "source": [
    "input1.size()"
   ]
  },
  {
   "cell_type": "code",
   "execution_count": 8,
   "id": "extensive-condition",
   "metadata": {},
   "outputs": [
    {
     "data": {
      "text/plain": [
       "torch.Size([10, 784])"
      ]
     },
     "execution_count": 8,
     "metadata": {},
     "output_type": "execute_result"
    }
   ],
   "source": [
    "input1.view(input1.shape[0], -1).shape"
   ]
  },
  {
   "cell_type": "code",
   "execution_count": 9,
   "id": "departmental-holocaust",
   "metadata": {},
   "outputs": [
    {
     "data": {
      "text/plain": [
       "tensor([[0.0964, 0.1697, 0.1021, 0.1048, 0.0707, 0.0739, 0.1075, 0.1044, 0.0917,\n",
       "         0.0789],\n",
       "        [0.1002, 0.1674, 0.1041, 0.1036, 0.0694, 0.0716, 0.1106, 0.1007, 0.0928,\n",
       "         0.0796],\n",
       "        [0.0932, 0.1771, 0.1041, 0.1030, 0.0692, 0.0721, 0.1100, 0.1043, 0.0900,\n",
       "         0.0770],\n",
       "        [0.1036, 0.1692, 0.1038, 0.1042, 0.0697, 0.0712, 0.1054, 0.1034, 0.0932,\n",
       "         0.0763],\n",
       "        [0.0970, 0.1699, 0.1048, 0.1047, 0.0681, 0.0718, 0.1089, 0.1076, 0.0897,\n",
       "         0.0775],\n",
       "        [0.0999, 0.1674, 0.1037, 0.1044, 0.0725, 0.0732, 0.1073, 0.1032, 0.0924,\n",
       "         0.0762],\n",
       "        [0.1035, 0.1658, 0.1048, 0.1062, 0.0688, 0.0724, 0.1093, 0.1002, 0.0936,\n",
       "         0.0754],\n",
       "        [0.0991, 0.1723, 0.1030, 0.1073, 0.0670, 0.0750, 0.1082, 0.1015, 0.0911,\n",
       "         0.0755],\n",
       "        [0.1042, 0.1692, 0.1044, 0.1062, 0.0660, 0.0698, 0.1082, 0.1028, 0.0957,\n",
       "         0.0737],\n",
       "        [0.0963, 0.1695, 0.1059, 0.1055, 0.0674, 0.0754, 0.1133, 0.1033, 0.0863,\n",
       "         0.0771]], grad_fn=<SoftmaxBackward>)"
      ]
     },
     "execution_count": 9,
     "metadata": {},
     "output_type": "execute_result"
    }
   ],
   "source": [
    "output1=net(input1.view(input1.shape[0], -1))\n",
    "output1"
   ]
  },
  {
   "cell_type": "code",
   "execution_count": 10,
   "id": "recovered-lecture",
   "metadata": {},
   "outputs": [
    {
     "data": {
      "image/png": "[encoded data removed]",
      "text/plain": [
       "<Figure size 432x288 with 2 Axes>"
      ]
     },
     "metadata": {
      "needs_background": "light"
     },
     "output_type": "display_data"
    }
   ],
   "source": [
    "def show_tensor(x):\n",
    "    plt.figure()\n",
    "    plt.xticks(np.arange(0,10,1))\n",
    "    plt.imshow(x)\n",
    "    plt.colorbar(orientation='horizontal')\n",
    "    plt.show\n",
    "show_tensor(output1.detach().numpy())"
   ]
  },
  {
   "cell_type": "code",
   "execution_count": null,
   "id": "preliminary-order",
   "metadata": {},
   "outputs": [],
   "source": []
  },
  {
   "cell_type": "code",
   "execution_count": null,
   "id": "middle-incident",
   "metadata": {},
   "outputs": [],
   "source": []
  }
 ],
 "metadata": {
  "kernelspec": {
   "display_name": "Python 3",
   "language": "python",
   "name": "python3"
  },
  "language_info": {
   "codemirror_mode": {
    "name": "ipython",
    "version": 3
   },
   "file_extension": ".py",
   "mimetype": "text/x-python",
   "name": "python",
   "nbconvert_exporter": "python",
   "pygments_lexer": "ipython3",
   "version": "3.8.5"
  }
 },
 "nbformat": 4,
 "nbformat_minor": 5
}
