{
 "cells": [
  {
   "cell_type": "markdown",
   "id": "underlying-taxation",
   "metadata": {},
   "source": [
    "# Tutorial-1:Forward Propagation NN"
   ]
  },
  {
   "cell_type": "code",
   "execution_count": 1,
   "id": "approved-joining",
   "metadata": {},
   "outputs": [],
   "source": [
    "import torch\n",
    "import torch.nn.functional as F\n",
    "import torch.nn as nn\n",
    "import numpy as np\n",
    "\n",
    "from torchvision import transforms, datasets"
   ]
  },
  {
   "cell_type": "code",
   "execution_count": 2,
   "id": "exceptional-huntington",
   "metadata": {},
   "outputs": [],
   "source": [
    "class FFNN(nn.Module):\n",
    "    def __init__(self):\n",
    "        super(FFNN, self).__init__()\n",
    "\n",
    "        self.fc1 = nn.Linear(784, 100)\n",
    "        self.fc2 = nn.Linear(100, 10)\n",
    "        self.sigmoid = nn.Sigmoid()\n",
    "    \n",
    "    def forward(self, x):\n",
    "        x = self.fc1(x)\n",
    "        x = self.sigmoid(x)\n",
    "        x = self.fc2(x)\n",
    "        \n",
    "        x = F.softmax(x, dim=1)\n",
    "        return x"
   ]
  },
  {
   "cell_type": "code",
   "execution_count": 3,
   "id": "incorporated-prevention",
   "metadata": {},
   "outputs": [
    {
     "name": "stdout",
     "output_type": "stream",
     "text": [
      "FFNN(\n",
      "  (fc1): Linear(in_features=784, out_features=100, bias=True)\n",
      "  (fc2): Linear(in_features=100, out_features=10, bias=True)\n",
      "  (sigmoid): Sigmoid()\n",
      ")\n"
     ]
    }
   ],
   "source": [
    "net=FFNN()\n",
    "print(net)"
   ]
  },
  {
   "cell_type": "code",
   "execution_count": 4,
   "id": "liberal-investment",
   "metadata": {},
   "outputs": [
    {
     "name": "stdout",
     "output_type": "stream",
     "text": [
      "\n",
      "first layer weights : torch.Size([100, 784])\n",
      "first layer bias : torch.Size([100])\n",
      "\n",
      "second layer weights : torch.Size([10, 100])\n",
      "second layer bias : torch.Size([10])\n",
      "\n",
      "Total parameters in the network :  79510\n"
     ]
    }
   ],
   "source": [
    "params = list(net.parameters())\n",
    "print('\\nfirst layer weights : ' + str(params[0].size()))\n",
    "print('first layer bias : ' + str(params[1].size()))\n",
    "print('\\nsecond layer weights : ' + str(params[2].size()))\n",
    "print('second layer bias : ' + str(params[3].size()))\n",
    "\n",
    "\n",
    "total_params=0\n",
    "for params in params:\n",
    "    total_params+=np.sum(np.prod(params.size()))\n",
    "print(\"\\nTotal parameters in the network : \" , total_params)"
   ]
  },
  {
   "cell_type": "code",
   "execution_count": 5,
   "id": "consistent-newspaper",
   "metadata": {},
   "outputs": [],
   "source": [
    "apply_transform= transforms.Compose([transforms.ToTensor()])\n",
    "Batchsize=1\n",
    "\n",
    "trainset=datasets.MNIST(root='./data', train=True, download=False, transform=apply_transform)\n",
    "trainloader=torch.utils.data.DataLoader(trainset, batch_size=Batchsize, shuffle=True)"
   ]
  },
  {
   "cell_type": "code",
   "execution_count": 22,
   "id": "close-parliament",
   "metadata": {},
   "outputs": [],
   "source": [
    "data1=next(iter(trainloader))"
   ]
  },
  {
   "cell_type": "code",
   "execution_count": 23,
   "id": "bored-madonna",
   "metadata": {},
   "outputs": [],
   "source": [
    "inputs, label = data1"
   ]
  },
  {
   "cell_type": "code",
   "execution_count": 24,
   "id": "figured-office",
   "metadata": {},
   "outputs": [
    {
     "data": {
      "text/plain": [
       "tensor([2])"
      ]
     },
     "execution_count": 24,
     "metadata": {},
     "output_type": "execute_result"
    }
   ],
   "source": [
    "label"
   ]
  },
  {
   "cell_type": "code",
   "execution_count": 25,
   "id": "combined-organization",
   "metadata": {},
   "outputs": [
    {
     "data": {
      "text/plain": [
       "tensor([[0.0997, 0.0956, 0.0784, 0.0654, 0.1014, 0.1007, 0.1043, 0.1891, 0.0915,\n",
       "         0.0737]], grad_fn=<SoftmaxBackward>)"
      ]
     },
     "execution_count": 25,
     "metadata": {},
     "output_type": "execute_result"
    }
   ],
   "source": [
    "net(inputs.view(inputs.shape[0],-1))\n"
   ]
  },
  {
   "cell_type": "code",
   "execution_count": 16,
   "id": "boxed-rebecca",
   "metadata": {},
   "outputs": [],
   "source": [
    "tensor_image=inputs.view(inputs.shape[2], inputs.shape[3])"
   ]
  },
  {
   "cell_type": "code",
   "execution_count": 11,
   "id": "alpha-latest",
   "metadata": {},
   "outputs": [],
   "source": [
    "transforms.ToPILImage()(tensor_image).show()"
   ]
  },
  {
   "cell_type": "code",
   "execution_count": null,
   "id": "capable-arctic",
   "metadata": {},
   "outputs": [],
   "source": []
  }
 ],
 "metadata": {
  "kernelspec": {
   "display_name": "Python 3",
   "language": "python",
   "name": "python3"
  },
  "language_info": {
   "codemirror_mode": {
    "name": "ipython",
    "version": 3
   },
   "file_extension": ".py",
   "mimetype": "text/x-python",
   "name": "python",
   "nbconvert_exporter": "python",
   "pygments_lexer": "ipython3",
   "version": "3.8.5"
  }
 },
 "nbformat": 4,
 "nbformat_minor": 5
}
