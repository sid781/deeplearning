{
 "cells": [
  {
   "cell_type": "markdown",
   "id": "northern-remedy",
   "metadata": {},
   "source": [
    "## Assignment 0"
   ]
  },
  {
   "cell_type": "code",
   "execution_count": 1,
   "id": "controlled-split",
   "metadata": {},
   "outputs": [],
   "source": [
    "import torch\n",
    "import torch.nn as nn\n",
    "import torch.nn.functional as F\n",
    "import numpy as np\n",
    "\n",
    "from torchvision import datasets, transforms\n",
    "import matplotlib.pyplot as plt\n",
    "%matplotlib inline"
   ]
  },
  {
   "cell_type": "markdown",
   "id": "literary-ozone",
   "metadata": {},
   "source": [
    "### FEED FORWARD NEURAL NETWORK (FFNN)"
   ]
  },
  {
   "cell_type": "markdown",
   "id": "informational-chuck",
   "metadata": {},
   "source": [
    "Network Building of the Feed Forward Neural Network to recognise the Handwritten digits.\n",
    "*Dataset*: MNIST datasets of **Handwritten digits**\n",
    "* Input Layer Size=784\n",
    "* No. Hidden Layer=1\n",
    "* Hidden Layer Size= 100\n",
    "* Output Layer Size=10\n"
   ]
  },
  {
   "cell_type": "code",
   "execution_count": 2,
   "id": "russian-chosen",
   "metadata": {},
   "outputs": [],
   "source": [
    "class Net(nn.Module):\n",
    "    def __init__(self):\n",
    "        super(Net, self).__init__()\n",
    "\n",
    "        self.fc1=nn.Linear(784, 100)\n",
    "        self.fc2=nn.Linear(100, 10)\n",
    "\n",
    "        self.sigmoid=nn.Sigmoid()\n",
    "\n",
    "    def forward(self, x):\n",
    "        x=self.fc1(x)\n",
    "        x=self.sigmoid(x)\n",
    "        x=self.fc2(x)\n",
    "\n",
    "        x=F.softmax(x, dim=1)\n",
    "        return x\n"
   ]
  },
  {
   "cell_type": "code",
   "execution_count": 3,
   "id": "lovely-richmond",
   "metadata": {},
   "outputs": [
    {
     "name": "stdout",
     "output_type": "stream",
     "text": [
      "Net(\n",
      "  (fc1): Linear(in_features=784, out_features=100, bias=True)\n",
      "  (fc2): Linear(in_features=100, out_features=10, bias=True)\n",
      "  (sigmoid): Sigmoid()\n",
      ")\n"
     ]
    }
   ],
   "source": [
    "net=Net()\n",
    "print(net)"
   ]
  },
  {
   "cell_type": "markdown",
   "id": "republican-bangladesh",
   "metadata": {},
   "source": [
    "**Number of parameters at each step and total parameters in the model**"
   ]
  },
  {
   "cell_type": "code",
   "execution_count": 4,
   "id": "cathedral-preserve",
   "metadata": {},
   "outputs": [
    {
     "name": "stdout",
     "output_type": "stream",
     "text": [
      "fc1.weight : torch.Size([100, 784])\n",
      "fc1.bias : torch.Size([100])\n",
      "fc2.weight : torch.Size([10, 100])\n",
      "fc2.bias : torch.Size([10])\n",
      "\n",
      "Total Parameters: 79510\n"
     ]
    }
   ],
   "source": [
    "params = list(net.named_parameters())\n",
    "total_params=0\n",
    "for name, param in params:\n",
    "    print(name, \":\", param.shape)\n",
    "    total_params+=np.sum(np.prod(param.shape))\n",
    "print(\"\\nTotal Parameters:\", total_params)"
   ]
  },
  {
   "cell_type": "markdown",
   "id": "ceramic-costume",
   "metadata": {},
   "source": [
    "**Forward Propagation**"
   ]
  },
  {
   "cell_type": "code",
   "execution_count": 5,
   "id": "subtle-adapter",
   "metadata": {},
   "outputs": [],
   "source": [
    "apply_transforms= transforms.Compose([transforms.ToTensor()])\n",
    "Batchsize=10\n",
    "\n",
    "trainset= datasets.MNIST(root='./data', train=True, download=False, transform=apply_transforms)\n",
    "trainloader= torch.utils.data.DataLoader(trainset, batch_size=Batchsize, shuffle=True)\n"
   ]
  },
  {
   "cell_type": "code",
   "execution_count": 6,
   "id": "banner-horizon",
   "metadata": {},
   "outputs": [
    {
     "data": {
      "text/plain": [
       "tensor([5, 4, 1, 6, 0, 0, 0, 4, 9, 1])"
      ]
     },
     "execution_count": 6,
     "metadata": {},
     "output_type": "execute_result"
    }
   ],
   "source": [
    "data1=next(iter(trainloader))\n",
    "input1, label1=data1\n",
    "\n",
    "label1"
   ]
  },
  {
   "cell_type": "code",
   "execution_count": 7,
   "id": "smart-storm",
   "metadata": {},
   "outputs": [
    {
     "data": {
      "text/plain": [
       "torch.Size([10, 1, 28, 28])"
      ]
     },
     "execution_count": 7,
     "metadata": {},
     "output_type": "execute_result"
    }
   ],
   "source": [
    "input1.size()"
   ]
  },
  {
   "cell_type": "code",
   "execution_count": 8,
   "id": "norwegian-maximum",
   "metadata": {},
   "outputs": [
    {
     "data": {
      "text/plain": [
       "torch.Size([10, 784])"
      ]
     },
     "execution_count": 8,
     "metadata": {},
     "output_type": "execute_result"
    }
   ],
   "source": [
    "input1.view(input1.shape[0], -1).shape"
   ]
  },
  {
   "cell_type": "code",
   "execution_count": 9,
   "id": "palestinian-clause",
   "metadata": {},
   "outputs": [
    {
     "data": {
      "text/plain": [
       "tensor([[0.0536, 0.1574, 0.1136, 0.0587, 0.0759, 0.1230, 0.0821, 0.1207, 0.0987,\n",
       "         0.1163],\n",
       "        [0.0530, 0.1537, 0.1160, 0.0564, 0.0757, 0.1221, 0.0859, 0.1200, 0.0995,\n",
       "         0.1175],\n",
       "        [0.0528, 0.1490, 0.1115, 0.0568, 0.0758, 0.1231, 0.0851, 0.1249, 0.0970,\n",
       "         0.1239],\n",
       "        [0.0511, 0.1507, 0.1130, 0.0576, 0.0741, 0.1182, 0.0852, 0.1232, 0.0998,\n",
       "         0.1271],\n",
       "        [0.0537, 0.1492, 0.1092, 0.0571, 0.0759, 0.1263, 0.0861, 0.1230, 0.1036,\n",
       "         0.1159],\n",
       "        [0.0529, 0.1536, 0.1132, 0.0568, 0.0750, 0.1208, 0.0838, 0.1257, 0.0976,\n",
       "         0.1206],\n",
       "        [0.0554, 0.1519, 0.1125, 0.0586, 0.0753, 0.1260, 0.0868, 0.1155, 0.0988,\n",
       "         0.1191],\n",
       "        [0.0514, 0.1509, 0.1154, 0.0580, 0.0751, 0.1188, 0.0864, 0.1232, 0.0983,\n",
       "         0.1225],\n",
       "        [0.0512, 0.1542, 0.1186, 0.0560, 0.0739, 0.1206, 0.0839, 0.1179, 0.0994,\n",
       "         0.1243],\n",
       "        [0.0539, 0.1489, 0.1120, 0.0566, 0.0762, 0.1229, 0.0856, 0.1240, 0.0972,\n",
       "         0.1227]], grad_fn=<SoftmaxBackward>)"
      ]
     },
     "execution_count": 9,
     "metadata": {},
     "output_type": "execute_result"
    }
   ],
   "source": [
    "output1=net(input1.view(input1.shape[0], -1))\n",
    "output1"
   ]
  },
  {
   "cell_type": "code",
   "execution_count": 10,
   "id": "enormous-contract",
   "metadata": {},
   "outputs": [
    {
     "data": {
      "image/png": "[encoded data removed]",
      "text/plain": [
       "<Figure size 432x288 with 2 Axes>"
      ]
     },
     "metadata": {
      "needs_background": "light"
     },
     "output_type": "display_data"
    }
   ],
   "source": [
    "def show_tensor(x):\n",
    "    plt.figure()\n",
    "    plt.xticks(np.arange(0,10,1))\n",
    "    plt.yticks(np.arange(0,10,1))\n",
    "    plt.xlabel(\"Probability\")\n",
    "    plt.ylabel(\"Iteration\")\n",
    "    \n",
    "    plt.imshow(x)\n",
    "    plt.colorbar(orientation='horizontal')\n",
    "    plt.show\n",
    "    \n",
    "show_tensor(output1.detach().numpy())"
   ]
  },
  {
   "cell_type": "markdown",
   "id": "broke-filing",
   "metadata": {},
   "source": [
    "Additional: To see the actual image of the input"
   ]
  },
  {
   "cell_type": "code",
   "execution_count": 11,
   "id": "structural-czech",
   "metadata": {},
   "outputs": [],
   "source": [
    "#tensor_image=(input1.view(input1.shape[2], input1.shape[3]))\n",
    "#transforms.ToPILImage()(tensor_image).show()"
   ]
  },
  {
   "cell_type": "markdown",
   "id": "abroad-charm",
   "metadata": {},
   "source": [
    "### CONVOLUTIONAL NEURAL NETWORK (CNN)\n",
    "Network building of Convolutional Neural Network (CNN) for Handwritten digit Recognition.\n",
    "*Dataset*: MNIST datasets of **Handwritten digits** having Input Layer Size= (28x28)\n",
    "\n",
    "#### LeNet Model\n",
    "* No. Convolutional Layer=2\n",
    "* Convolutional Layer 1 features:\n",
    "    - Input = 32x32\n",
    "    - Channels = 6\n",
    "    - Kernel Size= 5x5\n",
    "    - MaxPooling = 2x2 , stride=2\n",
    "\n",
    "* Convolutional Layer 2 features:\n",
    "    - Channels = 16\n",
    "    - Kernel Size= 5x5\n",
    "    - MaxPooling = 2x2 , stride=2\n",
    "    \n",
    "* Fully connected Layers\n",
    "    - Layer1: Output = 120\n",
    "    - Layer2: Output = 84\n",
    "    - Layer2: Output = 10\n",
    "\n"
   ]
  },
  {
   "cell_type": "code",
   "execution_count": 12,
   "id": "wired-assembly",
   "metadata": {},
   "outputs": [],
   "source": [
    "class LeNet(nn.Module):\n",
    "    def __init__(self):\n",
    "        super(LeNet, self).__init__()\n",
    "        \n",
    "        self.conv1=nn.Conv2d(1, 6, 5)\n",
    "        self.pool1=nn.MaxPool2d(2, stride=2)\n",
    "        self.conv2=nn.Conv2d(6, 16, 5)\n",
    "        self.pool2=nn.MaxPool2d(2, stride=2)\n",
    "        self.fc1=nn.Linear(16*5*5, 120)\n",
    "        self.fc2=nn.Linear(120, 84)\n",
    "        self.fc3=nn.Linear(84, 10)\n",
    "        \n",
    "    def forward(self, x):\n",
    "        x = F.relu(self.conv1(x))\n",
    "        x = self.pool1(x)\n",
    "        x = F.relu(self.conv2(x))\n",
    "        x = self.pool2(x)\n",
    "        x = x.view(-1, 400)\n",
    "        x = F.relu(self.fc1(x))\n",
    "        x = F.relu(self.fc2(x))\n",
    "        x = self.fc3(x)\n",
    "        x = F.softmax(x, dim=1)\n",
    "        return x\n",
    "            \n",
    "        "
   ]
  },
  {
   "cell_type": "code",
   "execution_count": 13,
   "id": "apart-candidate",
   "metadata": {},
   "outputs": [
    {
     "name": "stdout",
     "output_type": "stream",
     "text": [
      "LeNet(\n",
      "  (conv1): Conv2d(1, 6, kernel_size=(5, 5), stride=(1, 1))\n",
      "  (pool1): MaxPool2d(kernel_size=2, stride=2, padding=0, dilation=1, ceil_mode=False)\n",
      "  (conv2): Conv2d(6, 16, kernel_size=(5, 5), stride=(1, 1))\n",
      "  (pool2): MaxPool2d(kernel_size=2, stride=2, padding=0, dilation=1, ceil_mode=False)\n",
      "  (fc1): Linear(in_features=400, out_features=120, bias=True)\n",
      "  (fc2): Linear(in_features=120, out_features=84, bias=True)\n",
      "  (fc3): Linear(in_features=84, out_features=10, bias=True)\n",
      ")\n"
     ]
    }
   ],
   "source": [
    "lenet=LeNet()\n",
    "print(lenet)"
   ]
  },
  {
   "cell_type": "markdown",
   "id": "immune-cemetery",
   "metadata": {},
   "source": [
    "**Number of parameters at each step and total parameters in the model**"
   ]
  },
  {
   "cell_type": "code",
   "execution_count": 14,
   "id": "legendary-kentucky",
   "metadata": {},
   "outputs": [
    {
     "name": "stdout",
     "output_type": "stream",
     "text": [
      "conv1.weight : torch.Size([6, 1, 5, 5])\n",
      "conv1.bias : torch.Size([6])\n",
      "conv2.weight : torch.Size([16, 6, 5, 5])\n",
      "conv2.bias : torch.Size([16])\n",
      "fc1.weight : torch.Size([120, 400])\n",
      "fc1.bias : torch.Size([120])\n",
      "fc2.weight : torch.Size([84, 120])\n",
      "fc2.bias : torch.Size([84])\n",
      "fc3.weight : torch.Size([10, 84])\n",
      "fc3.bias : torch.Size([10])\n",
      "\n",
      "Total Parameters: 61706\n"
     ]
    }
   ],
   "source": [
    "params = list(lenet.named_parameters())\n",
    "total_params=0\n",
    "for name, param in params:\n",
    "    print(name, \":\", param.shape)\n",
    "    total_params+=np.sum(np.prod(param.shape))\n",
    "print(\"\\nTotal Parameters:\", total_params)"
   ]
  },
  {
   "cell_type": "markdown",
   "id": "right-license",
   "metadata": {},
   "source": [
    "**Forward Propagation**"
   ]
  },
  {
   "cell_type": "code",
   "execution_count": 15,
   "id": "prostate-trigger",
   "metadata": {},
   "outputs": [],
   "source": [
    "transform_cnn=transforms.Compose([transforms.Resize(32), transforms.ToTensor()])\n",
    "BatchSize=10\n",
    "trainset_cnn= datasets.MNIST(root='./data', train=True, download=False, transform=transform_cnn)\n",
    "trainloader_cnn= torch.utils.data.DataLoader(trainset_cnn, batch_size=BatchSize, shuffle=True)"
   ]
  },
  {
   "cell_type": "code",
   "execution_count": 16,
   "id": "incoming-track",
   "metadata": {},
   "outputs": [
    {
     "data": {
      "text/plain": [
       "tensor([4, 7, 8, 8, 1, 1, 0, 6, 3, 8])"
      ]
     },
     "execution_count": 16,
     "metadata": {},
     "output_type": "execute_result"
    }
   ],
   "source": [
    "data2=next(iter(trainloader_cnn))\n",
    "input2, label2=data2\n",
    "\n",
    "label2"
   ]
  },
  {
   "cell_type": "code",
   "execution_count": 17,
   "id": "alternate-concern",
   "metadata": {},
   "outputs": [
    {
     "data": {
      "text/plain": [
       "torch.Size([10, 1, 32, 32])"
      ]
     },
     "execution_count": 17,
     "metadata": {},
     "output_type": "execute_result"
    }
   ],
   "source": [
    "input2.size()"
   ]
  },
  {
   "cell_type": "code",
   "execution_count": 18,
   "id": "universal-patrol",
   "metadata": {},
   "outputs": [
    {
     "data": {
      "text/plain": [
       "tensor([[0.0916, 0.1036, 0.0987, 0.1121, 0.1066, 0.0873, 0.1083, 0.0918, 0.0962,\n",
       "         0.1039],\n",
       "        [0.0911, 0.1048, 0.0991, 0.1130, 0.1067, 0.0873, 0.1066, 0.0921, 0.0955,\n",
       "         0.1038],\n",
       "        [0.0924, 0.1035, 0.0981, 0.1115, 0.1080, 0.0874, 0.1085, 0.0914, 0.0961,\n",
       "         0.1030],\n",
       "        [0.0922, 0.1037, 0.0977, 0.1127, 0.1073, 0.0878, 0.1085, 0.0911, 0.0961,\n",
       "         0.1029],\n",
       "        [0.0911, 0.1042, 0.0986, 0.1127, 0.1073, 0.0867, 0.1076, 0.0917, 0.0967,\n",
       "         0.1034],\n",
       "        [0.0914, 0.1044, 0.0984, 0.1121, 0.1073, 0.0863, 0.1077, 0.0918, 0.0967,\n",
       "         0.1039],\n",
       "        [0.0919, 0.1041, 0.0977, 0.1138, 0.1076, 0.0875, 0.1077, 0.0914, 0.0953,\n",
       "         0.1029],\n",
       "        [0.0918, 0.1042, 0.0986, 0.1121, 0.1076, 0.0871, 0.1075, 0.0912, 0.0966,\n",
       "         0.1034],\n",
       "        [0.0915, 0.1036, 0.0977, 0.1129, 0.1072, 0.0877, 0.1085, 0.0919, 0.0953,\n",
       "         0.1037],\n",
       "        [0.0919, 0.1033, 0.0980, 0.1119, 0.1081, 0.0878, 0.1086, 0.0922, 0.0957,\n",
       "         0.1024]], grad_fn=<SoftmaxBackward>)"
      ]
     },
     "execution_count": 18,
     "metadata": {},
     "output_type": "execute_result"
    }
   ],
   "source": [
    "output2=lenet(input2)\n",
    "output2"
   ]
  },
  {
   "cell_type": "code",
   "execution_count": 19,
   "id": "shaped-london",
   "metadata": {},
   "outputs": [
    {
     "data": {
      "image/png": "[encoded data removed]",
      "text/plain": [
       "<Figure size 432x288 with 2 Axes>"
      ]
     },
     "metadata": {
      "needs_background": "light"
     },
     "output_type": "display_data"
    }
   ],
   "source": [
    "def show_tensor(x):\n",
    "    plt.figure()\n",
    "    plt.xticks(np.arange(0,10,1))\n",
    "    plt.yticks(np.arange(0,10,1))\n",
    "    plt.xlabel(\"Probability\")\n",
    "    plt.ylabel(\"Iteration\")\n",
    "    plt.imshow(x)\n",
    "    plt.colorbar(orientation='horizontal')\n",
    "    plt.show\n",
    "show_tensor(output2.detach().numpy())"
   ]
  },
  {
   "cell_type": "markdown",
   "id": "moved-modification",
   "metadata": {},
   "source": [
    "Additional: To see the actual image of the input"
   ]
  },
  {
   "cell_type": "code",
   "execution_count": 20,
   "id": "ultimate-evans",
   "metadata": {},
   "outputs": [],
   "source": [
    "#tensor_image= input2.view(input2.shape[2], input2.shape[3])\n",
    "#transforms.ToPILImage()(tensor_image).show()\n"
   ]
  },
  {
   "cell_type": "code",
   "execution_count": null,
   "id": "identified-baking",
   "metadata": {},
   "outputs": [],
   "source": []
  }
 ],
 "metadata": {
  "kernelspec": {
   "display_name": "Python 3",
   "language": "python",
   "name": "python3"
  },
  "language_info": {
   "codemirror_mode": {
    "name": "ipython",
    "version": 3
   },
   "file_extension": ".py",
   "mimetype": "text/x-python",
   "name": "python",
   "nbconvert_exporter": "python",
   "pygments_lexer": "ipython3",
   "version": "3.8.5"
  }
 },
 "nbformat": 4,
 "nbformat_minor": 5
}
