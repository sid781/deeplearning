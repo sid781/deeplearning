{
 "cells": [
  {
   "cell_type": "code",
   "execution_count": 44,
   "metadata": {},
   "outputs": [],
   "source": [
    "import torch\n",
    "import torch.nn.functional as F\n",
    "import torch.nn as nn\n",
    "import numpy as np\n",
    "\n",
    "from torchvision import transforms, datasets"
   ]
  },
  {
   "cell_type": "code",
   "execution_count": 45,
   "metadata": {},
   "outputs": [],
   "source": [
    "class FFNN(nn.Module):\n",
    "    def __init__(self):\n",
    "        super(FFNN, self).__init__()\n",
    "        \n",
    "        self.fc1 = nn.Linear(784,100)\n",
    "        self.fc2 = nn.Linear(100,10)\n",
    "        self.sigmoid=nn.Sigmoid()\n",
    "        \n",
    "    def forward(self, x):\n",
    "        x = self.fc1(x)\n",
    "        x = self.sigmoid(x)\n",
    "        x = self.fc2(x)\n",
    "        x = F.softmax(x, dim=1)\n",
    "        \n",
    "        print(x.size())\n",
    "        return x"
   ]
  },
  {
   "cell_type": "code",
   "execution_count": 19,
   "metadata": {},
   "outputs": [
    {
     "data": {
      "text/plain": [
       "\"'class LeNet(nn.Module):\\n    def __init__(self):\\n        super(LeNet, self).__init__()\\n        \\n        self.conv1 = nn.Conv2d(1, 6, 5)\\n        \\n        self.pool1 = nn.MaxPool2d(2, stride=2)\\n        \\n    def forward(self, x):\\n        x = F.relu(self.conv1(x))\\n        x = self.pool1(x)\\n        \\n        return F.softmax(x, dim=1)\""
      ]
     },
     "execution_count": 19,
     "metadata": {},
     "output_type": "execute_result"
    }
   ],
   "source": [
    "''''class LeNet(nn.Module):\n",
    "    def __init__(self):\n",
    "        super(LeNet, self).__init__()\n",
    "        \n",
    "        self.conv1 = nn.Conv2d(1, 6, 5)\n",
    "        \n",
    "        self.pool1 = nn.MaxPool2d(2, stride=2)\n",
    "        \n",
    "    def forward(self, x):\n",
    "        x = F.relu(self.conv1(x))\n",
    "        x = self.pool1(x)\n",
    "        \n",
    "        return F.softmax(x, dim=1)'''"
   ]
  },
  {
   "cell_type": "code",
   "execution_count": 46,
   "metadata": {},
   "outputs": [
    {
     "name": "stdout",
     "output_type": "stream",
     "text": [
      "FFNN(\n",
      "  (fc1): Linear(in_features=784, out_features=100, bias=True)\n",
      "  (fc2): Linear(in_features=100, out_features=10, bias=True)\n",
      "  (sigmoid): Sigmoid()\n",
      ")\n"
     ]
    }
   ],
   "source": [
    "net = FFNN()\n",
    "print(net)"
   ]
  },
  {
   "cell_type": "code",
   "execution_count": 47,
   "metadata": {},
   "outputs": [
    {
     "name": "stdout",
     "output_type": "stream",
     "text": [
      "No. of parameters : 4\n",
      "\n",
      "\n",
      "Dimensions of first layer weights: torch.Size([100, 784])\n",
      "Dimensions of first layer bias: torch.Size([100])\n",
      "\n",
      "Dimensions of second layer weights: torch.Size([10, 100])\n",
      "Dimensions of second layer bias: torch.Size([10])\n",
      "torch.Size([100, 784])\n",
      "torch.Size([100])\n",
      "torch.Size([10, 100])\n",
      "torch.Size([10])\n",
      "\n",
      "Total number of parameters: 79510\n"
     ]
    }
   ],
   "source": [
    "params = list(net.parameters())\n",
    "print('No. of parameters : ' + str(len(params)) + '\\n')\n",
    "print('\\nDimensions of first layer weights: '+str(params[0].size()))\n",
    "print('Dimensions of first layer bias: '+str(params[1].size()))\n",
    "print('\\nDimensions of second layer weights: '+str(params[2].size()))\n",
    "print('Dimensions of second layer bias: '+str(params[3].size()))\n",
    "\n",
    "totalParams = 0\n",
    "for param in params:\n",
    "    print(param.size())\n",
    "    totalParams += np.sum(np.prod(param.size()))\n",
    "print('\\nTotal number of parameters: '+str(totalParams))"
   ]
  },
  {
   "cell_type": "code",
   "execution_count": 48,
   "metadata": {},
   "outputs": [],
   "source": [
    "apply_transform = transforms.Compose([transforms.ToTensor()])\n",
    "BatchSize = 256\n",
    "\n",
    "trainset = datasets.MNIST(root='./data', train=True, download=True, transform=apply_transform)\n",
    "trainLoader = torch.utils.data.DataLoader(trainset, batch_size=1, shuffle=True, num_workers=4)"
   ]
  },
  {
   "cell_type": "code",
   "execution_count": 20,
   "metadata": {},
   "outputs": [
    {
     "name": "stdout",
     "output_type": "stream",
     "text": [
      "torch.Size([256, 784])\n",
      "torch.Size([256, 784])\n",
      "torch.Size([256, 784])\n",
      "torch.Size([256, 784])\n",
      "torch.Size([256, 784])\n",
      "torch.Size([256, 784])\n",
      "torch.Size([256, 784])\n",
      "torch.Size([256, 784])\n",
      "torch.Size([256, 784])\n",
      "torch.Size([256, 784])\n",
      "torch.Size([256, 784])\n",
      "torch.Size([256, 784])\n",
      "torch.Size([256, 784])\n",
      "torch.Size([256, 784])\n",
      "torch.Size([256, 784])\n",
      "torch.Size([256, 784])\n",
      "torch.Size([256, 784])\n",
      "torch.Size([256, 784])\n",
      "torch.Size([256, 784])\n",
      "torch.Size([256, 784])\n",
      "torch.Size([256, 784])\n",
      "torch.Size([256, 784])\n",
      "torch.Size([256, 784])\n",
      "torch.Size([256, 784])\n",
      "torch.Size([256, 784])\n",
      "torch.Size([256, 784])\n",
      "torch.Size([256, 784])\n",
      "torch.Size([256, 784])\n",
      "torch.Size([256, 784])\n",
      "torch.Size([256, 784])\n",
      "torch.Size([256, 784])\n",
      "torch.Size([256, 784])\n",
      "torch.Size([256, 784])\n",
      "torch.Size([256, 784])\n",
      "torch.Size([256, 784])\n",
      "torch.Size([256, 784])\n",
      "torch.Size([256, 784])\n",
      "torch.Size([256, 784])\n",
      "torch.Size([256, 784])\n",
      "torch.Size([256, 784])\n",
      "torch.Size([256, 784])\n",
      "torch.Size([256, 784])\n",
      "torch.Size([256, 784])\n",
      "torch.Size([256, 784])\n",
      "torch.Size([256, 784])\n",
      "torch.Size([256, 784])\n",
      "torch.Size([256, 784])\n",
      "torch.Size([256, 784])\n",
      "torch.Size([256, 784])\n",
      "torch.Size([256, 784])\n",
      "torch.Size([256, 784])\n",
      "torch.Size([256, 784])\n",
      "torch.Size([256, 784])\n",
      "torch.Size([256, 784])\n",
      "torch.Size([256, 784])\n",
      "torch.Size([256, 784])\n",
      "torch.Size([256, 784])\n",
      "torch.Size([256, 784])\n",
      "torch.Size([256, 784])\n",
      "torch.Size([256, 784])\n",
      "torch.Size([256, 784])\n",
      "torch.Size([256, 784])\n",
      "torch.Size([256, 784])\n",
      "torch.Size([256, 784])\n",
      "torch.Size([256, 784])\n",
      "torch.Size([256, 784])\n",
      "torch.Size([256, 784])\n",
      "torch.Size([256, 784])\n",
      "torch.Size([256, 784])\n",
      "torch.Size([256, 784])\n",
      "torch.Size([256, 784])\n",
      "torch.Size([256, 784])\n",
      "torch.Size([256, 784])\n",
      "torch.Size([256, 784])\n",
      "torch.Size([256, 784])\n",
      "torch.Size([256, 784])\n",
      "torch.Size([256, 784])\n",
      "torch.Size([256, 784])\n",
      "torch.Size([256, 784])\n",
      "torch.Size([256, 784])\n",
      "torch.Size([256, 784])\n",
      "torch.Size([256, 784])\n",
      "torch.Size([256, 784])\n",
      "torch.Size([256, 784])\n",
      "torch.Size([256, 784])\n",
      "torch.Size([256, 784])\n",
      "torch.Size([256, 784])\n",
      "torch.Size([256, 784])\n",
      "torch.Size([256, 784])\n",
      "torch.Size([256, 784])\n",
      "torch.Size([256, 784])\n",
      "torch.Size([256, 784])\n",
      "torch.Size([256, 784])\n",
      "torch.Size([256, 784])\n",
      "torch.Size([256, 784])\n",
      "torch.Size([256, 784])\n",
      "torch.Size([256, 784])\n",
      "torch.Size([256, 784])\n",
      "torch.Size([256, 784])\n",
      "torch.Size([256, 784])\n",
      "torch.Size([256, 784])\n",
      "torch.Size([256, 784])\n",
      "torch.Size([256, 784])\n",
      "torch.Size([256, 784])\n",
      "torch.Size([256, 784])\n",
      "torch.Size([256, 784])\n",
      "torch.Size([256, 784])\n",
      "torch.Size([256, 784])\n",
      "torch.Size([256, 784])\n",
      "torch.Size([256, 784])\n",
      "torch.Size([256, 784])\n",
      "torch.Size([256, 784])\n",
      "torch.Size([256, 784])\n",
      "torch.Size([256, 784])\n",
      "torch.Size([256, 784])\n",
      "torch.Size([256, 784])\n",
      "torch.Size([256, 784])\n",
      "torch.Size([256, 784])\n",
      "torch.Size([256, 784])\n",
      "torch.Size([256, 784])\n",
      "torch.Size([256, 784])\n",
      "torch.Size([256, 784])\n",
      "torch.Size([256, 784])\n",
      "torch.Size([256, 784])\n",
      "torch.Size([256, 784])\n",
      "torch.Size([256, 784])\n",
      "torch.Size([256, 784])\n",
      "torch.Size([256, 784])\n",
      "torch.Size([256, 784])\n",
      "torch.Size([256, 784])\n",
      "torch.Size([256, 784])\n",
      "torch.Size([256, 784])\n",
      "torch.Size([256, 784])\n",
      "torch.Size([256, 784])\n",
      "torch.Size([256, 784])\n",
      "torch.Size([256, 784])\n",
      "torch.Size([256, 784])\n",
      "torch.Size([256, 784])\n",
      "torch.Size([256, 784])\n",
      "torch.Size([256, 784])\n",
      "torch.Size([256, 784])\n",
      "torch.Size([256, 784])\n",
      "torch.Size([256, 784])\n",
      "torch.Size([256, 784])\n",
      "torch.Size([256, 784])\n",
      "torch.Size([256, 784])\n",
      "torch.Size([256, 784])\n",
      "torch.Size([256, 784])\n",
      "torch.Size([256, 784])\n",
      "torch.Size([256, 784])\n",
      "torch.Size([256, 784])\n",
      "torch.Size([256, 784])\n",
      "torch.Size([256, 784])\n",
      "torch.Size([256, 784])\n",
      "torch.Size([256, 784])\n",
      "torch.Size([256, 784])\n",
      "torch.Size([256, 784])\n",
      "torch.Size([256, 784])\n",
      "torch.Size([256, 784])\n",
      "torch.Size([256, 784])\n",
      "torch.Size([256, 784])\n",
      "torch.Size([256, 784])\n",
      "torch.Size([256, 784])\n",
      "torch.Size([256, 784])\n",
      "torch.Size([256, 784])\n",
      "torch.Size([256, 784])\n",
      "torch.Size([256, 784])\n",
      "torch.Size([256, 784])\n",
      "torch.Size([256, 784])\n",
      "torch.Size([256, 784])\n",
      "torch.Size([256, 784])\n",
      "torch.Size([256, 784])\n",
      "torch.Size([256, 784])\n",
      "torch.Size([256, 784])\n",
      "torch.Size([256, 784])\n",
      "torch.Size([256, 784])\n",
      "torch.Size([256, 784])\n",
      "torch.Size([256, 784])\n",
      "torch.Size([256, 784])\n",
      "torch.Size([256, 784])\n",
      "torch.Size([256, 784])\n",
      "torch.Size([256, 784])\n",
      "torch.Size([256, 784])\n",
      "torch.Size([256, 784])\n",
      "torch.Size([256, 784])\n",
      "torch.Size([256, 784])\n",
      "torch.Size([256, 784])\n",
      "torch.Size([256, 784])\n",
      "torch.Size([256, 784])\n",
      "torch.Size([256, 784])\n",
      "torch.Size([256, 784])\n",
      "torch.Size([256, 784])\n",
      "torch.Size([256, 784])\n",
      "torch.Size([256, 784])\n",
      "torch.Size([256, 784])\n",
      "torch.Size([256, 784])\n",
      "torch.Size([256, 784])\n",
      "torch.Size([256, 784])\n",
      "torch.Size([256, 784])\n",
      "torch.Size([256, 784])\n",
      "torch.Size([256, 784])\n",
      "torch.Size([256, 784])\n",
      "torch.Size([256, 784])\n",
      "torch.Size([256, 784])\n",
      "torch.Size([256, 784])\n",
      "torch.Size([256, 784])\n",
      "torch.Size([256, 784])\n",
      "torch.Size([256, 784])\n",
      "torch.Size([256, 784])\n",
      "torch.Size([256, 784])\n",
      "torch.Size([256, 784])\n",
      "torch.Size([256, 784])\n",
      "torch.Size([256, 784])\n",
      "torch.Size([256, 784])\n",
      "torch.Size([256, 784])\n",
      "torch.Size([256, 784])\n",
      "torch.Size([256, 784])\n",
      "torch.Size([256, 784])\n",
      "torch.Size([256, 784])\n",
      "torch.Size([256, 784])\n",
      "torch.Size([256, 784])\n",
      "torch.Size([256, 784])\n",
      "torch.Size([256, 784])\n",
      "torch.Size([256, 784])\n",
      "torch.Size([256, 784])\n",
      "torch.Size([256, 784])\n",
      "torch.Size([256, 784])\n",
      "torch.Size([256, 784])\n",
      "torch.Size([256, 784])\n",
      "torch.Size([256, 784])\n",
      "torch.Size([256, 784])\n",
      "torch.Size([256, 784])\n",
      "torch.Size([256, 784])\n",
      "torch.Size([256, 784])\n",
      "torch.Size([96, 784])\n"
     ]
    }
   ],
   "source": [
    "for i,data in enumerate(trainLoader):\n",
    "    inputs, labels = data\n",
    "    print(inputs.view(inputs.shape[0], -1).shape)\n",
    "    \n",
    "    #outputs = net(inputs.view(inputs.shape[0], -1))"
   ]
  },
  {
   "cell_type": "code",
   "execution_count": 6,
   "metadata": {},
   "outputs": [
    {
     "ename": "NameError",
     "evalue": "name 'inputs' is not defined",
     "output_type": "error",
     "traceback": [
      "\u001b[1;31m---------------------------------------------------------------------------\u001b[0m",
      "\u001b[1;31mNameError\u001b[0m                                 Traceback (most recent call last)",
      "\u001b[1;32m<ipython-input-6-45d7dc36cbde>\u001b[0m in \u001b[0;36m<module>\u001b[1;34m\u001b[0m\n\u001b[1;32m----> 1\u001b[1;33m \u001b[0minputs\u001b[0m\u001b[1;33m.\u001b[0m\u001b[0mview\u001b[0m\u001b[1;33m(\u001b[0m\u001b[1;33m-\u001b[0m\u001b[1;36m1\u001b[0m\u001b[1;33m,\u001b[0m \u001b[0minputs\u001b[0m\u001b[1;33m.\u001b[0m\u001b[0mshape\u001b[0m\u001b[1;33m[\u001b[0m\u001b[1;36m0\u001b[0m\u001b[1;33m]\u001b[0m\u001b[1;33m)\u001b[0m\u001b[1;33m.\u001b[0m\u001b[0mshape\u001b[0m\u001b[1;33m\u001b[0m\u001b[1;33m\u001b[0m\u001b[0m\n\u001b[0m",
      "\u001b[1;31mNameError\u001b[0m: name 'inputs' is not defined"
     ]
    }
   ],
   "source": [
    "inputs.view(-1, inputs.shape[0]).shape"
   ]
  },
  {
   "cell_type": "code",
   "execution_count": 49,
   "metadata": {},
   "outputs": [],
   "source": [
    "data1=next(iter(trainLoader))"
   ]
  },
  {
   "cell_type": "code",
   "execution_count": 50,
   "metadata": {},
   "outputs": [],
   "source": [
    "input1,label=data1"
   ]
  },
  {
   "cell_type": "code",
   "execution_count": 51,
   "metadata": {},
   "outputs": [
    {
     "data": {
      "text/plain": [
       "torch.Size([1, 1, 28, 28])"
      ]
     },
     "execution_count": 51,
     "metadata": {},
     "output_type": "execute_result"
    }
   ],
   "source": [
    "input1.shape"
   ]
  },
  {
   "cell_type": "code",
   "execution_count": 52,
   "metadata": {},
   "outputs": [
    {
     "data": {
      "text/plain": [
       "tensor([8])"
      ]
     },
     "execution_count": 52,
     "metadata": {},
     "output_type": "execute_result"
    }
   ],
   "source": [
    "label"
   ]
  },
  {
   "cell_type": "code",
   "execution_count": 53,
   "metadata": {},
   "outputs": [
    {
     "name": "stdout",
     "output_type": "stream",
     "text": [
      "torch.Size([1, 10])\n"
     ]
    },
    {
     "data": {
      "text/plain": [
       "tensor([[0.0658, 0.0775, 0.0994, 0.0963, 0.1611, 0.0876, 0.1269, 0.1029, 0.1236,\n",
       "         0.0588]], grad_fn=<SoftmaxBackward>)"
      ]
     },
     "execution_count": 53,
     "metadata": {},
     "output_type": "execute_result"
    }
   ],
   "source": [
    "net(input1.view(input1.shape[0], -1))"
   ]
  },
  {
   "cell_type": "code",
   "execution_count": 56,
   "metadata": {},
   "outputs": [
    {
     "name": "stdout",
     "output_type": "stream",
     "text": [
      "<class 'torch.Tensor'> torch.Size([1, 1, 28, 28])\n"
     ]
    }
   ],
   "source": [
    "tensor_image = input1.view(input1.shape[2], input1.shape[3])\n",
    "print(type(input1), input1.shape)"
   ]
  },
  {
   "cell_type": "code",
   "execution_count": 1,
   "metadata": {},
   "outputs": [
    {
     "ename": "NameError",
     "evalue": "name 'transforms' is not defined",
     "output_type": "error",
     "traceback": [
      "\u001b[1;31m---------------------------------------------------------------------------\u001b[0m",
      "\u001b[1;31mNameError\u001b[0m                                 Traceback (most recent call last)",
      "\u001b[1;32m<ipython-input-1-d7decb562e0e>\u001b[0m in \u001b[0;36m<module>\u001b[1;34m\u001b[0m\n\u001b[1;32m----> 1\u001b[1;33m \u001b[0mtransforms\u001b[0m\u001b[1;33m.\u001b[0m\u001b[0mToPILImage\u001b[0m\u001b[1;33m(\u001b[0m\u001b[1;33m)\u001b[0m\u001b[1;33m(\u001b[0m\u001b[0mtensor_image\u001b[0m\u001b[1;33m)\u001b[0m\u001b[1;33m.\u001b[0m\u001b[0mshow\u001b[0m\u001b[1;33m(\u001b[0m\u001b[1;33m)\u001b[0m\u001b[1;33m\u001b[0m\u001b[1;33m\u001b[0m\u001b[0m\n\u001b[0m",
      "\u001b[1;31mNameError\u001b[0m: name 'transforms' is not defined"
     ]
    }
   ],
   "source": [
    "transforms.ToPILImage()(tensor_image).show()"
   ]
  },
  {
   "cell_type": "code",
   "execution_count": null,
   "metadata": {},
   "outputs": [],
   "source": []
  }
 ],
 "metadata": {
  "kernelspec": {
   "display_name": "Python 3",
   "language": "python",
   "name": "python3"
  },
  "language_info": {
   "codemirror_mode": {
    "name": "ipython",
    "version": 3
   },
   "file_extension": ".py",
   "mimetype": "text/x-python",
   "name": "python",
   "nbconvert_exporter": "python",
   "pygments_lexer": "ipython3",
   "version": "3.8.5"
  }
 },
 "nbformat": 4,
 "nbformat_minor": 2
}
