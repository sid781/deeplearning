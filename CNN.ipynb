{
 "cells": [
  {
   "cell_type": "markdown",
   "id": "confirmed-suspension",
   "metadata": {},
   "source": [
    "# Convolutional NN"
   ]
  },
  {
   "cell_type": "code",
   "execution_count": 1,
   "id": "nearby-birthday",
   "metadata": {},
   "outputs": [],
   "source": [
    "import torch\n",
    "import torch.nn as nn\n",
    "import torch.nn.functional as F\n",
    "import numpy as np\n",
    "\n",
    "from torchvision import datasets, transforms\n",
    "import matplotlib.pyplot as plt\n",
    "%matplotlib inline"
   ]
  },
  {
   "cell_type": "code",
   "execution_count": 2,
   "id": "piano-silence",
   "metadata": {},
   "outputs": [],
   "source": [
    "class LeNet(nn.Module):\n",
    "    def __init__(self):\n",
    "        super(LeNet, self).__init__()\n",
    "        \n",
    "        self.conv1=nn.Conv2d(1, 6, 5)\n",
    "        self.pool1=nn.MaxPool2d(2, stride=2)\n",
    "        self.conv2=nn.Conv2d(6, 16, 5)\n",
    "        self.pool2=nn.MaxPool2d(2, stride=2)\n",
    "        self.fc1=nn.Linear(16*5*5, 120)\n",
    "        self.fc2=nn.Linear(120, 84)\n",
    "        self.fc3=nn.Linear(84, 10)\n",
    "        \n",
    "    def forward(self, x):\n",
    "        x = F.relu(self.conv1(x))\n",
    "        x = self.pool1(x)\n",
    "        x = F.relu(self.conv2(x))\n",
    "        x = self.pool2(x)\n",
    "        x = x.view(-1, 400)\n",
    "        x = F.relu(self.fc1(x))\n",
    "        x = F.relu(self.fc2(x))\n",
    "        x = self.fc3(x)\n",
    "        x = F.softmax(x, dim=1)\n",
    "        return x\n",
    "              "
   ]
  },
  {
   "cell_type": "code",
   "execution_count": 3,
   "id": "played-editor",
   "metadata": {},
   "outputs": [
    {
     "name": "stdout",
     "output_type": "stream",
     "text": [
      "LeNet(\n",
      "  (conv1): Conv2d(1, 6, kernel_size=(5, 5), stride=(1, 1))\n",
      "  (pool1): MaxPool2d(kernel_size=2, stride=2, padding=0, dilation=1, ceil_mode=False)\n",
      "  (conv2): Conv2d(6, 16, kernel_size=(5, 5), stride=(1, 1))\n",
      "  (pool2): MaxPool2d(kernel_size=2, stride=2, padding=0, dilation=1, ceil_mode=False)\n",
      "  (fc1): Linear(in_features=400, out_features=120, bias=True)\n",
      "  (fc2): Linear(in_features=120, out_features=84, bias=True)\n",
      "  (fc3): Linear(in_features=84, out_features=10, bias=True)\n",
      ")\n"
     ]
    }
   ],
   "source": [
    "lenet=LeNet()\n",
    "print(lenet)"
   ]
  },
  {
   "cell_type": "code",
   "execution_count": 4,
   "id": "positive-crack",
   "metadata": {},
   "outputs": [
    {
     "name": "stdout",
     "output_type": "stream",
     "text": [
      "torch.Size([6, 1, 5, 5])\n",
      "torch.Size([6])\n",
      "torch.Size([16, 6, 5, 5])\n",
      "torch.Size([16])\n",
      "torch.Size([120, 400])\n",
      "torch.Size([120])\n",
      "torch.Size([84, 120])\n",
      "torch.Size([84])\n",
      "torch.Size([10, 84])\n",
      "torch.Size([10])\n"
     ]
    }
   ],
   "source": [
    "params = list(lenet.parameters())\n",
    "for params in params:\n",
    "    print(params.size())\n"
   ]
  },
  {
   "cell_type": "code",
   "execution_count": 5,
   "id": "perfect-trash",
   "metadata": {},
   "outputs": [],
   "source": [
    "transform=transforms.Compose([transforms.Resize(32), transforms.ToTensor()])\n",
    "BatchSize=10\n",
    "trainset= datasets.MNIST(root='./data', train=True, download=False, transform=transform)\n",
    "trainloader= torch.utils.data.DataLoader(trainset, batch_size=BatchSize, shuffle=True)"
   ]
  },
  {
   "cell_type": "code",
   "execution_count": 6,
   "id": "neural-monroe",
   "metadata": {},
   "outputs": [
    {
     "data": {
      "text/plain": [
       "tensor([6, 2, 3, 0, 0, 5, 2, 5, 4, 7])"
      ]
     },
     "execution_count": 6,
     "metadata": {},
     "output_type": "execute_result"
    }
   ],
   "source": [
    "data=next(iter(trainloader))\n",
    "input, label=data\n",
    "\n",
    "label"
   ]
  },
  {
   "cell_type": "code",
   "execution_count": 7,
   "id": "powered-superintendent",
   "metadata": {},
   "outputs": [
    {
     "data": {
      "text/plain": [
       "torch.Size([10, 1, 32, 32])"
      ]
     },
     "execution_count": 7,
     "metadata": {},
     "output_type": "execute_result"
    }
   ],
   "source": [
    "input.size()"
   ]
  },
  {
   "cell_type": "code",
   "execution_count": 8,
   "id": "dominant-talent",
   "metadata": {},
   "outputs": [
    {
     "data": {
      "text/plain": [
       "tensor([[0.0911, 0.0954, 0.1074, 0.0955, 0.1120, 0.1000, 0.0961, 0.1092, 0.0975,\n",
       "         0.0960],\n",
       "        [0.0911, 0.0949, 0.1067, 0.0958, 0.1112, 0.1004, 0.0966, 0.1091, 0.0979,\n",
       "         0.0963],\n",
       "        [0.0906, 0.0953, 0.1078, 0.0956, 0.1105, 0.0998, 0.0965, 0.1095, 0.0978,\n",
       "         0.0965],\n",
       "        [0.0909, 0.0959, 0.1070, 0.0964, 0.1106, 0.0996, 0.0961, 0.1089, 0.0977,\n",
       "         0.0969],\n",
       "        [0.0907, 0.0959, 0.1067, 0.0960, 0.1108, 0.1003, 0.0963, 0.1087, 0.0977,\n",
       "         0.0969],\n",
       "        [0.0909, 0.0960, 0.1075, 0.0957, 0.1111, 0.0994, 0.0961, 0.1094, 0.0978,\n",
       "         0.0961],\n",
       "        [0.0907, 0.0960, 0.1062, 0.0958, 0.1110, 0.1000, 0.0970, 0.1090, 0.0975,\n",
       "         0.0968],\n",
       "        [0.0909, 0.0956, 0.1070, 0.0957, 0.1110, 0.1000, 0.0964, 0.1092, 0.0970,\n",
       "         0.0973],\n",
       "        [0.0906, 0.0958, 0.1067, 0.0951, 0.1115, 0.1002, 0.0966, 0.1093, 0.0970,\n",
       "         0.0972],\n",
       "        [0.0909, 0.0955, 0.1068, 0.0957, 0.1107, 0.1007, 0.0973, 0.1094, 0.0971,\n",
       "         0.0959]], grad_fn=<SoftmaxBackward>)"
      ]
     },
     "execution_count": 8,
     "metadata": {},
     "output_type": "execute_result"
    }
   ],
   "source": [
    "output=lenet(input)\n",
    "output"
   ]
  },
  {
   "cell_type": "code",
   "execution_count": 9,
   "id": "alternative-frequency",
   "metadata": {},
   "outputs": [
    {
     "data": {
      "image/png": "[encoded data removed]",
      "text/plain": [
       "<Figure size 432x288 with 2 Axes>"
      ]
     },
     "metadata": {
      "needs_background": "light"
     },
     "output_type": "display_data"
    }
   ],
   "source": [
    "def show_tensor(x):\n",
    "    plt.figure()\n",
    "    plt.xticks(np.arange(0,10,1))\n",
    "    plt.imshow(x)\n",
    "    plt.colorbar(orientation='horizontal')\n",
    "    plt.show\n",
    "show_tensor(output.detach().numpy())"
   ]
  },
  {
   "cell_type": "code",
   "execution_count": null,
   "id": "burning-mortgage",
   "metadata": {},
   "outputs": [],
   "source": []
  }
 ],
 "metadata": {
  "kernelspec": {
   "display_name": "Python 3",
   "language": "python",
   "name": "python3"
  },
  "language_info": {
   "codemirror_mode": {
    "name": "ipython",
    "version": 3
   },
   "file_extension": ".py",
   "mimetype": "text/x-python",
   "name": "python",
   "nbconvert_exporter": "python",
   "pygments_lexer": "ipython3",
   "version": "3.8.5"
  }
 },
 "nbformat": 4,
 "nbformat_minor": 5
}
